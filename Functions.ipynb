{
  "nbformat": 4,
  "nbformat_minor": 0,
  "metadata": {
    "colab": {
      "private_outputs": true,
      "provenance": []
    },
    "kernelspec": {
      "name": "python3",
      "display_name": "Python 3"
    },
    "language_info": {
      "name": "python"
    }
  },
  "cells": [
    {
      "cell_type": "markdown",
      "source": [
        "#Functions"
      ],
      "metadata": {
        "id": "XB2LZZ0RShR9"
      }
    },
    {
      "cell_type": "markdown",
      "source": [
        "1. What is the difference between a function and a method in Python?\n",
        "-A function is a block of code that performs a task and is independent of objects. A method is similar but is associated with an object and is called using the dot (.) operator.\n",
        "\n"
      ],
      "metadata": {
        "id": "04KnYJU_SoTq"
      }
    },
    {
      "cell_type": "markdown",
      "source": [
        "2.Explain the concept of function arguments and parameters in Python?\n",
        "\n",
        "-Parameters are variables listed in a function definition. Arguments are the actual values passed to the function when it is called.\n",
        "\n"
      ],
      "metadata": {
        "id": "Gv7JRqmkS_9M"
      }
    },
    {
      "cell_type": "markdown",
      "source": [
        "3.What are the different ways to define and call a function in Python?\n",
        "\n",
        "-Functions can be defined using the def keyword or as lambda expressions. They are called by writing the function name followed by parentheses.\n"
      ],
      "metadata": {
        "id": "Rfe3K6gsTHaA"
      }
    },
    {
      "cell_type": "markdown",
      "source": [
        "4.What is the purpose of the `return` statement in a Python function?\n",
        "\n",
        "-The return statement is used to send the result from a function back to the caller and to exit the function.\n",
        "\n"
      ],
      "metadata": {
        "id": "2nzGb8pMTMzr"
      }
    },
    {
      "cell_type": "markdown",
      "source": [
        "5.What are iterators in Python and how do they differ from iterables?\n",
        "\n",
        "-An iterator is an object with a _next_() method to get the next value. An iterable is an object that can return an iterator using the iter() method.\n",
        "\n"
      ],
      "metadata": {
        "id": "7RhufBmoTQ-r"
      }
    },
    {
      "cell_type": "markdown",
      "source": [
        "6.Explain the concept of generators in Python and how they are defined?\n",
        "\n",
        "-Generators are functions that yield values one at a time using the yield keyword, instead of returning all at once, allowing memory-efficient iteration."
      ],
      "metadata": {
        "id": "8PwOXNJ5TV4k"
      }
    },
    {
      "cell_type": "markdown",
      "source": [
        "7.What are the advantages of using generators over regular functions?\n",
        "\n",
        "-Generators use less memory and are more efficient when dealing with large datasets or infinite sequences, as they generate values only when needed.\n"
      ],
      "metadata": {
        "id": "UgsUlzf8Tarr"
      }
    },
    {
      "cell_type": "markdown",
      "source": [
        "8.What is a lambda function in Python and when is it typically used?\n",
        "\n",
        "-A lambda function is an anonymous, one-line function used when a short function is needed temporarily, often with functions like map(), filter(), etc.\n",
        "\n",
        "\n"
      ],
      "metadata": {
        "id": "_H4MtytjTeye"
      }
    },
    {
      "cell_type": "markdown",
      "source": [
        "9. Explain the purpose and usage of the `map()` function in Python?\n",
        "\n",
        "-The map() function applies a given function to each item of an iterable, returning a new iterable with the results.\n"
      ],
      "metadata": {
        "id": "y_BsxsH0Tigm"
      }
    },
    {
      "cell_type": "markdown",
      "source": [
        "10. What is the difference between `map()`, `reduce()`, and `filter()` functions in Python?\n",
        "\n",
        "-map() transforms each item in an iterable.\n",
        "filter() selects items that meet a condition.\n",
        "reduce() combines all items using a function to return a single value.\n"
      ],
      "metadata": {
        "id": "l2TJNaLwTmwJ"
      }
    },
    {
      "cell_type": "code",
      "source": [
        "#1. Write a Python function that takes a list of numbers as input and returns the sum of all even numbers in\n",
        "the list?\n",
        "def sum_of_evens(numbers):\n",
        "    return sum(num for num in numbers if num % 2 == 0)\n",
        "print(\"1. sum of even numbers:\",sum_of_evens([1, 2, 3, 4, 5, 6, 7, 8, 9, 10]))\n"
      ],
      "metadata": {
        "id": "MBdhPvQlCD9x"
      },
      "execution_count": null,
      "outputs": []
    },
    {
      "cell_type": "code",
      "source": [
        "#2. Create a Python function that accepts a string and returns the reverse of that string?\n",
        "def reverse_string(string):\n",
        "    return string[::-1]\n",
        "print(\"2. reverse of string:\",\n",
        "reverse_string(\"hello\"))"
      ],
      "metadata": {
        "id": "iFjkzf5CCInT"
      },
      "execution_count": null,
      "outputs": []
    },
    {
      "cell_type": "code",
      "source": [
        "#3. Implement a Python function that takes a list of integers and returns a new list containing the squares of\n",
        "each number?\n",
        "def square_list(lst):\n",
        "    return [x**2 for x in lst]\n",
        "print(\"3. Squared list:\",\n",
        "square_list([1, 2, 3, 4]))"
      ],
      "metadata": {
        "id": "9GOJAxYVCJ0H"
      },
      "execution_count": null,
      "outputs": []
    },
    {
      "cell_type": "code",
      "source": [
        "#4. Prime numbers from 1 to 200\n",
        "def is_prime(n):\n",
        "    if n <= 1:\n",
        "        return False\n",
        "    for i in range(2, int(n**0.5)+1):\n",
        "        if n % i == 0:\n",
        "            return False\n",
        "    return True\n",
        "\n",
        "primes = [i for i in range(1, 201) if is_prime(i)]\n",
        "print(\"4. Prime numbers from 1 to 200:\", primes)\n"
      ],
      "metadata": {
        "id": "8hgtfdd3CLXN"
      },
      "execution_count": null,
      "outputs": []
    },
    {
      "cell_type": "markdown",
      "source": [],
      "metadata": {
        "id": "3jYigCh2zvsA"
      }
    },
    {
      "cell_type": "code",
      "source": [
        "#5. Iterator class for Fibonacci sequence\n",
        "class Fibonacci:\n",
        "    def _init_(self, limit):\n",
        "        self.limit = limit  # total number of terms to generate\n",
        "        self.count = 0\n",
        "        self.a, self.b = 0, 1\n",
        "\n",
        "    def _iter_(self):\n",
        "        return self\n",
        "\n",
        "    def _next_(self):\n",
        "        if self.count >= self.limit:\n",
        "            raise StopIteration\n",
        "        if self.count == 0:\n",
        "            self.count += 1\n",
        "            return self.a\n",
        "        elif self.count == 1:\n",
        "            self.count += 1\n",
        "            return self.b\n",
        "        else:\n",
        "            self.a, self.b = self.b, self.a + self.b\n",
        "            self.count += 1\n",
        "            return self.b\n",
        "\n",
        "\n",
        "\n",
        "print(\"Fibonacci sequence (10 terms):\")\n",
        "for num in fib:\n",
        "    print(num, end=\" \")"
      ],
      "metadata": {
        "id": "HimlIWKSCNJM"
      },
      "execution_count": null,
      "outputs": []
    },
    {
      "cell_type": "markdown",
      "source": [],
      "metadata": {
        "id": "uw759ygOAHnq"
      }
    },
    {
      "cell_type": "code",
      "source": [
        "#6.Generator for powers of 2\n",
        "def powers_of_two(exp):\n",
        "    for i in range(exp+1):\n",
        "        yield 2**i\n",
        "\n",
        "print(\"6. Powers of 2:\", list(powers_of_two(5)))\n"
      ],
      "metadata": {
        "id": "V3If0MRJIaaO"
      },
      "execution_count": null,
      "outputs": []
    },
    {
      "cell_type": "code",
      "execution_count": null,
      "metadata": {
        "id": "gZnN_3eKSRuD"
      },
      "outputs": [],
      "source": [
        "#7.. Implement a generator function that reads a file line by line and yields each line as a string?\n",
        "def read_lines(lines):\n",
        "    for line in lines:\n",
        "        yield line.strip()\n",
        "\n",
        "sample_lines = [\"Line 1\\n\", \"Line 2\\n\", \"Line 3\\n\"]\n",
        "print(\"7. Lines from generator:\", list(read_lines(sample_lines)))\n"
      ]
    },
    {
      "cell_type": "code",
      "source": [
        "#8.Use a lambda function in Python to sort a list of tuples based on the second element of each tuple?\n",
        "tuples = [(1, 3), (2, 1), (4, 2)]\n",
        "sorted_tuples = sorted(tuples, key=lambda x: x[1])\n",
        "print(\"8. Sorted tuples:\", sorted_tuples)\n",
        "\n"
      ],
      "metadata": {
        "id": "G456hPdqIxJz"
      },
      "execution_count": null,
      "outputs": []
    },
    {
      "cell_type": "code",
      "source": [
        "#9. Write a Python program that uses `map()` to convert a list of temperatures from Celsius to Fahrenheit?\n",
        "def c_to_f(c):\n",
        "    return list(map(lambda x: (x * 9/5) + 32, c))\n",
        "\n",
        "print(\"9. Celsius to Fahrenheit:\", c_to_f([0, 20, 37, 100]))"
      ],
      "metadata": {
        "id": "GIUIg7XSJC94"
      },
      "execution_count": null,
      "outputs": []
    },
    {
      "cell_type": "code",
      "source": [
        "#10. Create a Python program that uses `filter()` to remove all the vowels from a given string?\n",
        "def remove_vowels(string):\n",
        "    return ''.join(filter(lambda x: x.lower() not in 'aeiou', string))\n",
        "\n",
        "print(\"10. String without vowels:\", remove_vowels(\"Hello World\"))"
      ],
      "metadata": {
        "id": "KKF27SoYJSvx"
      },
      "execution_count": null,
      "outputs": []
    },
    {
      "cell_type": "code",
      "source": [
        "#11.Write a Python program, which returns a list with 2-tuples. Each tuple consists of the order number and the\n",
        "#product of the price per item and the quantity. The product should be increased by 10,- € if the value of the\n",
        "#order is smaller than 100,00 €.\n",
        "\n",
        "#Write a Python program using lambda and map?\n",
        "\n",
        "orders = [\n",
        "    [34587, \"Learning Python, Mark Lutz\", 4, 40.95],\n",
        "    [98762, \"Programming Python, Mark Lutz\", 5, 56.80],\n",
        "    [77226, \"Head First Python, Paul Barry\", 3, 32.95],\n",
        "    [88112, \"Einführung in Python3, Bernd Klein\", 3, 24.99]\n",
        "]\n",
        "\n",
        "# Apply lambda + map\n",
        "result = list(map(lambda order:\n",
        "    (order[0], round(order[2] * order[3] * 1.1, 2))\n",
        "    if order[2] * order[3] < 100\n",
        "    else (order[0], round(order[2] * order[3], 2)),\n",
        "    orders))\n",
        "\n",
        "# Print result\n",
        "print(\"Final List (Order No, Final Price):\")\n",
        "for item in result:\n",
        "    print(item)\n",
        "\n"
      ],
      "metadata": {
        "id": "QliMo8YsJed1"
      },
      "execution_count": null,
      "outputs": []
    }
  ]
}